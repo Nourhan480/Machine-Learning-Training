{
  "nbformat": 4,
  "nbformat_minor": 0,
  "metadata": {
    "colab": {
      "name": "Untitled9.ipynb",
      "provenance": [],
      "authorship_tag": "ABX9TyO4ks1eMJGG/mdS6h3/XS7r",
      "include_colab_link": true
    },
    "kernelspec": {
      "name": "python3",
      "display_name": "Python 3"
    },
    "language_info": {
      "name": "python"
    }
  },
  "cells": [
    {
      "cell_type": "markdown",
      "metadata": {
        "id": "view-in-github",
        "colab_type": "text"
      },
      "source": [
        "<a href=\"https://colab.research.google.com/github/Nourhan480/Machine-Learning-Training/blob/main/Untitled9.ipynb\" target=\"_parent\"><img src=\"https://colab.research.google.com/assets/colab-badge.svg\" alt=\"Open In Colab\"/></a>"
      ]
    },
    {
      "cell_type": "code",
      "metadata": {
        "colab": {
          "base_uri": "https://localhost:8080/"
        },
        "id": "tHUoaM76hIVh",
        "outputId": "42c2a986-7a49-41df-c050-d25902c33a9d"
      },
      "source": [
        "pocket=int(input(\"enter the pocket number from 0 to 36\\n\"))"
      ],
      "execution_count": 47,
      "outputs": [
        {
          "output_type": "stream",
          "text": [
            "enter the pocket number from 0 to 36\n",
            "16\n"
          ],
          "name": "stdout"
        }
      ]
    },
    {
      "cell_type": "code",
      "metadata": {
        "id": "mOlivLQwhjDO"
      },
      "source": [
        "if pocket==0:\n",
        "  print(\"green\")"
      ],
      "execution_count": 48,
      "outputs": []
    },
    {
      "cell_type": "code",
      "metadata": {
        "id": "paQEGaSah2SL"
      },
      "source": [
        "if 0<pocket<11:\n",
        "  if pocket%2==0:\n",
        "    print(\"black\")\n",
        "  else:\n",
        "    print(\"red\")"
      ],
      "execution_count": 49,
      "outputs": []
    },
    {
      "cell_type": "code",
      "metadata": {
        "colab": {
          "base_uri": "https://localhost:8080/"
        },
        "id": "d_Y6ceIuiXSY",
        "outputId": "08471a0c-5687-43db-e346-b6593e771bef"
      },
      "source": [
        "if 10<pocket<19:\n",
        "  if pocket%2==0:\n",
        "    print(\"red\")\n",
        "  else:\n",
        "    print(\"black\")"
      ],
      "execution_count": 50,
      "outputs": [
        {
          "output_type": "stream",
          "text": [
            "red\n"
          ],
          "name": "stdout"
        }
      ]
    },
    {
      "cell_type": "code",
      "metadata": {
        "id": "v7AmBANti3wS"
      },
      "source": [
        "if 18<pocket<29:\n",
        "  if pocket%2==0:\n",
        "    print(\"black\")\n",
        "  else:\n",
        "    print(\"red\")"
      ],
      "execution_count": 35,
      "outputs": []
    },
    {
      "cell_type": "code",
      "metadata": {
        "id": "8nf2XD4UjpC2"
      },
      "source": [
        "if 28<pocket<37:\n",
        "  if pocket%2==0:\n",
        "    print(\"red\")\n",
        "  else:\n",
        "    print(\"black\")"
      ],
      "execution_count": 36,
      "outputs": []
    },
    {
      "cell_type": "code",
      "metadata": {
        "id": "hDr613dwkG4M"
      },
      "source": [
        "if pocket<0:\n",
        "  print(\"error\")"
      ],
      "execution_count": 44,
      "outputs": []
    },
    {
      "cell_type": "code",
      "metadata": {
        "colab": {
          "base_uri": "https://localhost:8080/"
        },
        "id": "LRL1eb4llG7t",
        "outputId": "e4422133-9ceb-440c-bf9a-8f0825dfbf74"
      },
      "source": [
        "if pocket>36:\n",
        "  print(\"error\")"
      ],
      "execution_count": 46,
      "outputs": [
        {
          "output_type": "stream",
          "text": [
            "error\n"
          ],
          "name": "stdout"
        }
      ]
    },
    {
      "cell_type": "code",
      "metadata": {
        "id": "01IkuMpVmjRl"
      },
      "source": [
        ""
      ],
      "execution_count": null,
      "outputs": []
    }
  ]
}