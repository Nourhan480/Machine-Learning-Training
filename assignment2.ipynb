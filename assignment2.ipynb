{
  "nbformat": 4,
  "nbformat_minor": 0,
  "metadata": {
    "colab": {
      "name": " assignment2.ipynb",
      "provenance": [],
      "authorship_tag": "ABX9TyNCYmIpZHjJL3EqcO7UXNrL",
      "include_colab_link": true
    },
    "kernelspec": {
      "name": "python3",
      "display_name": "Python 3"
    },
    "language_info": {
      "name": "python"
    }
  },
  "cells": [
    {
      "cell_type": "markdown",
      "metadata": {
        "id": "view-in-github",
        "colab_type": "text"
      },
      "source": [
        "<a href=\"https://colab.research.google.com/github/Nourhan480/Machine-Learning-Training/blob/main/assignment2.ipynb\" target=\"_parent\"><img src=\"https://colab.research.google.com/assets/colab-badge.svg\" alt=\"Open In Colab\"/></a>"
      ]
    },
    {
      "cell_type": "code",
      "metadata": {
        "colab": {
          "base_uri": "https://localhost:8080/"
        },
        "id": "BLfN1ZXZFLwk",
        "outputId": "ed4ad9db-6765-496b-87f9-a74c018c0bbe"
      },
      "source": [
        "#program_1\n",
        "\n",
        "calories_burned_per_minute=4.2\n",
        "for minutes in range (10,31,5):\n",
        " calories=int(minutes*calories_burned_per_minute)\n",
        " print('you burned',calories,'calouries in',minutes,'minutes')"
      ],
      "execution_count": null,
      "outputs": [
        {
          "output_type": "stream",
          "text": [
            "you burned 42 calouries in 10 minutes\n",
            "you burned 63 calouries in 15 minutes\n",
            "you burned 84 calouries in 20 minutes\n",
            "you burned 105 calouries in 25 minutes\n",
            "you burned 126 calouries in 30 minutes\n"
          ],
          "name": "stdout"
        }
      ]
    },
    {
      "cell_type": "code",
      "metadata": {
        "id": "LWpwyglIMTvm",
        "colab": {
          "base_uri": "https://localhost:8080/"
        },
        "outputId": "c9ae98e0-6b01-45ed-e30d-9a1127a19170"
      },
      "source": [
        "#program_2\n",
        "speed=int(input(\"what is the speed of the vehicle in mph\\n\"))\n",
        "time=int(input(\"how many hours has it traveled\\n\"))\n",
        "print(\"hour\\tdistance travelled\")\n",
        "for hours in range(1,4):\n",
        " distance_travelled=speed*hours\n",
        " print(hours,\"\\t\",distance_travelled)\n",
        "\n",
        "\n"
      ],
      "execution_count": 14,
      "outputs": [
        {
          "output_type": "stream",
          "text": [
            "what is the speed of the vehicle in mph\n",
            "40\n",
            "how many hours has it traveled\n",
            "3\n",
            "hour\tdistance travelled\n",
            "1 \t 40\n",
            "2 \t 80\n",
            "3 \t 120\n"
          ],
          "name": "stdout"
        }
      ]
    },
    {
      "cell_type": "code",
      "metadata": {
        "colab": {
          "base_uri": "https://localhost:8080/"
        },
        "id": "IDDpcQsnrs1_",
        "outputId": "b7beea38-b059-47b2-d5d1-8ea24988e961"
      },
      "source": [
        "#program_3\n",
        "print(\"c\\tfarhenheit\")\n",
        "print(\"         \")\n",
        "for c in range(0,21):\n",
        "  fahrenheit=9/5*c+32\n",
        "  print(c,\"\\t\",format(fahrenheit,\".2f\"))\n",
        "\n"
      ],
      "execution_count": 30,
      "outputs": [
        {
          "output_type": "stream",
          "text": [
            "c\tfarhenheit\n",
            "         \n",
            "0 \t 32.00\n",
            "1 \t 33.80\n",
            "2 \t 35.60\n",
            "3 \t 37.40\n",
            "4 \t 39.20\n",
            "5 \t 41.00\n",
            "6 \t 42.80\n",
            "7 \t 44.60\n",
            "8 \t 46.40\n",
            "9 \t 48.20\n",
            "10 \t 50.00\n",
            "11 \t 51.80\n",
            "12 \t 53.60\n",
            "13 \t 55.40\n",
            "14 \t 57.20\n",
            "15 \t 59.00\n",
            "16 \t 60.80\n",
            "17 \t 62.60\n",
            "18 \t 64.40\n",
            "19 \t 66.20\n",
            "20 \t 68.00\n"
          ],
          "name": "stdout"
        }
      ]
    },
    {
      "cell_type": "code",
      "metadata": {
        "colab": {
          "base_uri": "https://localhost:8080/"
        },
        "id": "OzZsUn84uXLr",
        "outputId": "b7372bdd-852b-489b-e491-db86b96bb0d9"
      },
      "source": [
        "#program_4\n",
        "n=int(input(\"write non negative number\"))\n",
        "factorial=1\n",
        "for i in range(1,n): \n",
        "  factorial=factorial*i\n",
        "print(factorial)"
      ],
      "execution_count": 56,
      "outputs": [
        {
          "output_type": "stream",
          "text": [
            "write non negative number7\n",
            "720\n"
          ],
          "name": "stdout"
        }
      ]
    },
    {
      "cell_type": "code",
      "metadata": {
        "colab": {
          "base_uri": "https://localhost:8080/"
        },
        "id": "o9hq1kgxKDP_",
        "outputId": "3b2f438d-2924-4742-a40d-ad869c7f3485"
      },
      "source": [
        "#program_5\n",
        "for row in range (6):\n",
        "  print(\"#\",end=\"\")\n",
        "  for column in range(row):\n",
        "   print(\" \",end=\"\")\n",
        "  print(\"#\")\n"
      ],
      "execution_count": 117,
      "outputs": [
        {
          "output_type": "stream",
          "text": [
            "##\n",
            "# #\n",
            "#  #\n",
            "#   #\n",
            "#    #\n",
            "#     #\n"
          ],
          "name": "stdout"
        }
      ]
    },
    {
      "cell_type": "code",
      "metadata": {
        "colab": {
          "base_uri": "https://localhost:8080/"
        },
        "id": "6NZQg6_wKEyn",
        "outputId": "83d13928-1cf6-4ae2-d03e-5762e0e4cb63"
      },
      "source": [
        "#program_5\n",
        "for x in range(7,0,-1):\n",
        "  print(\"*\"*x)"
      ],
      "execution_count": 135,
      "outputs": [
        {
          "output_type": "stream",
          "text": [
            "*******\n",
            "******\n",
            "*****\n",
            "****\n",
            "***\n",
            "**\n",
            "*\n"
          ],
          "name": "stdout"
        }
      ]
    },
    {
      "cell_type": "code",
      "metadata": {
        "id": "6Eyic_9UaTZr",
        "outputId": "a27ab475-e325-425e-a365-24e19057d7fd",
        "colab": {
          "base_uri": "https://localhost:8080/"
        }
      },
      "source": [
        "#program_6\n",
        "def main():\n",
        " \n",
        " n1=random.randint(1,1000)\n",
        " n2=random.randint(1,1000)\n",
        " correct_ans=sum(n1,n2)\n",
        " print(n1,n2,end=\" \")\n",
        " student_answer=int(input(\"what is the sum of the two number\"))\n",
        " if student_answer==correct_ans:\n",
        "  correct()\n",
        " else:\n",
        "  not_correct(correct_ans)\n",
        "def sum(x,y):\n",
        " z=x+y\n",
        " return z\n",
        "def correct():\n",
        " print(\"congratulations\")\n",
        "\n",
        "\n",
        "def not_correct(x):\n",
        " print(\"wrong answer,right answer is\",x)\n",
        "\n",
        "main()\n"
      ],
      "execution_count": 109,
      "outputs": [
        {
          "output_type": "stream",
          "text": [
            "884 763 what is the sum of the two number55\n",
            "wrong answer,right answer is 1647\n"
          ],
          "name": "stdout"
        }
      ]
    },
    {
      "cell_type": "code",
      "metadata": {
        "id": "8PsswT4Nc7i3",
        "outputId": "25cafeea-3d45-4a53-9f26-856adc0635a2",
        "colab": {
          "base_uri": "https://localhost:8080/"
        }
      },
      "source": [
        "#program_7\n",
        "def main():\n",
        "  mass=int(input(\"enter the mass in kg\\n\"))\n",
        "  velocity=int(input(\"enter the velocity\\n\"))\n",
        "  kinetic_energy=KE(mass,velocity)\n",
        "  print(kinetic_energy)\n",
        "def KE(m,v):\n",
        " ke=1/2*m*v**2\n",
        " return ke\n",
        "main()\n"
      ],
      "execution_count": 115,
      "outputs": [
        {
          "output_type": "stream",
          "text": [
            "enter the mass in kg\n",
            "12\n",
            "enter the velocity\n",
            "5\n",
            "150.0\n"
          ],
          "name": "stdout"
        }
      ]
    },
    {
      "cell_type": "code",
      "metadata": {
        "id": "3Aosrs--nfeV"
      },
      "source": [
        ""
      ],
      "execution_count": 115,
      "outputs": []
    }
  ]
}