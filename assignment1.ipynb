{
  "nbformat": 4,
  "nbformat_minor": 0,
  "metadata": {
    "colab": {
      "name": "assignment1.ipynb",
      "provenance": [],
      "authorship_tag": "ABX9TyNmGFZqgUgqUS6YuQhlboni",
      "include_colab_link": true
    },
    "kernelspec": {
      "name": "python3",
      "display_name": "Python 3"
    },
    "language_info": {
      "name": "python"
    }
  },
  "cells": [
    {
      "cell_type": "markdown",
      "metadata": {
        "id": "view-in-github",
        "colab_type": "text"
      },
      "source": [
        "<a href=\"https://colab.research.google.com/github/Nourhan480/Machine-Learning-Training/blob/main/assignment1.ipynb\" target=\"_parent\"><img src=\"https://colab.research.google.com/assets/colab-badge.svg\" alt=\"Open In Colab\"/></a>"
      ]
    },
    {
      "cell_type": "code",
      "metadata": {
        "colab": {
          "base_uri": "https://localhost:8080/"
        },
        "id": "0FcRl_AZ9bFT",
        "outputId": "66036024-aa4e-4cd6-dc0d-f0b3a7b50561"
      },
      "source": [
        "#program_1\n",
        "length1=int(input(\"what's the length of rectangle1\\n\"))\n",
        "width1=int(input(\"what's the width of rectangle1\\n\"))\n",
        "length2=int(input(\"what's the length of rectangle2\\n\"))\n",
        "width2=int(input(\"what's the width of rectangle2\\n\"))\n",
        "area1=length1*width1\n",
        "area2=length2*width2\n",
        "if area1>area2:\n",
        "  print(\"area of rectangle1 is greater\")\n",
        "elif area2>area1:\n",
        "  print(\"area of rectangle2 is greater \")\n",
        "else:\n",
        "   print(\"area of two rectangles are equal\") "
      ],
      "execution_count": 5,
      "outputs": [
        {
          "output_type": "stream",
          "text": [
            "what's the length of rectangle1\n",
            "3\n",
            "what's the width of rectangle1\n",
            "5\n",
            "what's the length of rectangle2\n",
            "3\n",
            "what's the width of rectangle2\n",
            "6\n",
            "area of rectangle2 is greater \n"
          ],
          "name": "stdout"
        }
      ]
    },
    {
      "cell_type": "code",
      "metadata": {
        "colab": {
          "base_uri": "https://localhost:8080/"
        },
        "id": "V4jJvak6ACYv",
        "outputId": "190ba702-57f1-4d75-b6d7-45e067ff8634"
      },
      "source": [
        "#program_2\n",
        "pocket=int(input(\"enter the pocket number from 0 to 36\\n\"))\n",
        "if pocket==0:\n",
        "  print(\"green\")\n",
        "if 0<pocket<11:\n",
        "  if pocket%2==0:\n",
        "    print(\"black\")\n",
        "  else:\n",
        "    print(\"red\")\n",
        "if 10<pocket<19:\n",
        "  if pocket%2==0:\n",
        "    print(\"red\")\n",
        "  else:\n",
        "    print(\"black\")\n",
        "if 18<pocket<29:\n",
        "  if pocket%2==0:\n",
        "    print(\"black\")\n",
        "  else:\n",
        "    print(\"red\")\n",
        "if 28<pocket<37:\n",
        "  if pocket%2==0:\n",
        "    print(\"red\")\n",
        "  else:\n",
        "    print(\"black\")\n",
        "if pocket<0:\n",
        "  print(\"error\")\n",
        "if pocket>36:\n",
        "  print(\"error\")\n",
        "  \n"
      ],
      "execution_count": 6,
      "outputs": [
        {
          "output_type": "stream",
          "text": [
            "enter the pocket number from 0 to 36\n",
            "16\n",
            "red\n"
          ],
          "name": "stdout"
        }
      ]
    },
    {
      "cell_type": "code",
      "metadata": {
        "colab": {
          "base_uri": "https://localhost:8080/"
        },
        "id": "jyk16_1xAElq",
        "outputId": "31955cb4-2c7c-4aac-cffd-20b4a2d7ae5e"
      },
      "source": [
        "#program_3\n",
        "weight=float(input(\"enter your weight in pounds\\n\"))\n",
        "height=float(input(\"enter your height in inches\\n\"))\n",
        "BMI=(weight*703)/(height*height)\n",
        "if 18.4<BMI<25.1:\n",
        "  print(\"optimal weight\")\n",
        "if BMI<18.5:\n",
        "  print(\"under weight\")\n",
        "if BMI>25:\n",
        "  print(\"over weight\")"
      ],
      "execution_count": 7,
      "outputs": [
        {
          "output_type": "stream",
          "text": [
            "enter your weight in pounds\n",
            "132.93\n",
            "enter your height in inches\n",
            "62.3\n",
            "optimal weight\n"
          ],
          "name": "stdout"
        }
      ]
    },
    {
      "cell_type": "code",
      "metadata": {
        "id": "6DByyZN7-5fw"
      },
      "source": [
        "\n",
        "\n"
      ],
      "execution_count": null,
      "outputs": []
    }
  ]
}