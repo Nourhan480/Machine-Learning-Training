{
  "nbformat": 4,
  "nbformat_minor": 0,
  "metadata": {
    "colab": {
      "name": "Untitled10.ipynb",
      "provenance": [],
      "authorship_tag": "ABX9TyMz3m5UiG5wQWF+jDrJnk0m",
      "include_colab_link": true
    },
    "kernelspec": {
      "name": "python3",
      "display_name": "Python 3"
    },
    "language_info": {
      "name": "python"
    }
  },
  "cells": [
    {
      "cell_type": "markdown",
      "metadata": {
        "id": "view-in-github",
        "colab_type": "text"
      },
      "source": [
        "<a href=\"https://colab.research.google.com/github/Nourhan480/Machine-Learning-Training/blob/main/Untitled10.ipynb\" target=\"_parent\"><img src=\"https://colab.research.google.com/assets/colab-badge.svg\" alt=\"Open In Colab\"/></a>"
      ]
    },
    {
      "cell_type": "code",
      "metadata": {
        "colab": {
          "base_uri": "https://localhost:8080/"
        },
        "id": "ecMeKRpGGtcm",
        "outputId": "53d95090-5477-4334-eda1-6039776a3a7f"
      },
      "source": [
        "weight=float(input(\"enter your weight in pounds\\n\"))"
      ],
      "execution_count": 82,
      "outputs": [
        {
          "output_type": "stream",
          "text": [
            "enter your weight in pounds\n",
            "132.93\n"
          ],
          "name": "stdout"
        }
      ]
    },
    {
      "cell_type": "code",
      "metadata": {
        "colab": {
          "base_uri": "https://localhost:8080/"
        },
        "id": "q981izntIGI7",
        "outputId": "c596cada-e3ab-43d1-bfea-ecabf54239c5"
      },
      "source": [
        "height=float(input(\"enter your height in inches\\n\"))"
      ],
      "execution_count": 83,
      "outputs": [
        {
          "output_type": "stream",
          "text": [
            "enter your height in inches\n",
            "62.3\n"
          ],
          "name": "stdout"
        }
      ]
    },
    {
      "cell_type": "code",
      "metadata": {
        "id": "01mzEPPjId_0"
      },
      "source": [
        "BMI=(weight*703)/(height*height)"
      ],
      "execution_count": 84,
      "outputs": []
    },
    {
      "cell_type": "code",
      "metadata": {
        "colab": {
          "base_uri": "https://localhost:8080/"
        },
        "id": "QtpAAPKZI1VZ",
        "outputId": "362225ee-e592-4ff9-fd23-fc69644a6a11"
      },
      "source": [
        "if 18.4<BMI<25.1:\n",
        "  print(\"optimal weight\")"
      ],
      "execution_count": 85,
      "outputs": [
        {
          "output_type": "stream",
          "text": [
            "optimal weight\n"
          ],
          "name": "stdout"
        }
      ]
    },
    {
      "cell_type": "code",
      "metadata": {
        "id": "TUWdoCNkJ-XE"
      },
      "source": [
        "if BMI<18.5:\n",
        "  print(\"under weight\")"
      ],
      "execution_count": 86,
      "outputs": []
    },
    {
      "cell_type": "code",
      "metadata": {
        "id": "_CGAGdPdRWKn"
      },
      "source": [
        "if BMI>25:\n",
        "  print(\"over weight\")"
      ],
      "execution_count": 87,
      "outputs": []
    },
    {
      "cell_type": "code",
      "metadata": {
        "id": "QoSLwKpCRuEw"
      },
      "source": [
        ""
      ],
      "execution_count": null,
      "outputs": []
    }
  ]
}