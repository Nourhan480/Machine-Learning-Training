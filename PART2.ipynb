{
  "nbformat": 4,
  "nbformat_minor": 0,
  "metadata": {
    "colab": {
      "name": "PART2.ipynb",
      "provenance": [],
      "toc_visible": true,
      "authorship_tag": "ABX9TyPdL01E0vWfQYQwaR4BsHUq",
      "include_colab_link": true
    },
    "kernelspec": {
      "name": "python3",
      "display_name": "Python 3"
    },
    "language_info": {
      "name": "python"
    }
  },
  "cells": [
    {
      "cell_type": "markdown",
      "metadata": {
        "id": "view-in-github",
        "colab_type": "text"
      },
      "source": [
        "<a href=\"https://colab.research.google.com/github/Nourhan480/Machine-Learning-Training/blob/main/PART2.ipynb\" target=\"_parent\"><img src=\"https://colab.research.google.com/assets/colab-badge.svg\" alt=\"Open In Colab\"/></a>"
      ]
    },
    {
      "cell_type": "code",
      "metadata": {
        "id": "nueBAGsm_bjM"
      },
      "source": [
        ""
      ],
      "execution_count": null,
      "outputs": []
    },
    {
      "cell_type": "code",
      "metadata": {
        "id": "VppOUgyU_Auv",
        "colab": {
          "base_uri": "https://localhost:8080/"
        },
        "outputId": "ce154a1c-b65b-470d-e9e1-977304ea68bb"
      },
      "source": [
        "from google.colab import drive\n",
        "drive.mount('/content/drive')"
      ],
      "execution_count": 2,
      "outputs": [
        {
          "output_type": "stream",
          "text": [
            "Drive already mounted at /content/drive; to attempt to forcibly remount, call drive.mount(\"/content/drive\", force_remount=True).\n"
          ],
          "name": "stdout"
        }
      ]
    },
    {
      "cell_type": "code",
      "metadata": {
        "colab": {
          "base_uri": "https://localhost:8080/"
        },
        "id": "Dvkl5fL8_6k2",
        "outputId": "f1628b1c-d80f-4c26-d089-c7a1d4454691"
      },
      "source": [
        "def main():\n",
        "  num=open(\"/content/drive/MyDrive/numbers.txt\",\"r\")\n",
        "  total=0\n",
        "  for x in num:\n",
        "    integers=int (x)\n",
        "    print(integers)\n",
        "    total+=integers\n",
        "  num.close()\n",
        "  print(\"total is\",total)\n",
        "main()"
      ],
      "execution_count": 5,
      "outputs": [
        {
          "output_type": "stream",
          "text": [
            "86850343\n",
            "88065952\n",
            "89381968\n",
            "89536251\n",
            "89714939\n",
            "89826424\n",
            "90124775\n",
            "90672109\n",
            "91408453\n",
            "92438737\n",
            "93361277\n",
            "93890243\n",
            "94372638\n",
            "94759578\n",
            "95079649\n",
            "95439651\n",
            "95611217\n",
            "95980818\n",
            "96336673\n",
            "96581524\n",
            "97041824\n",
            "97379048\n",
            "97672500\n",
            "98066518\n",
            "98479598\n",
            "98934553\n",
            "99246321\n",
            "99431136\n",
            "99835823\n",
            "100049946\n",
            "100234498\n",
            "100568960\n",
            "100806870\n",
            "101097750\n",
            "101820859\n",
            "102455417\n",
            "103013163\n",
            "103523365\n",
            "104177442\n",
            "104757015\n",
            "105145703\n",
            "105694237\n",
            "106140898\n",
            "107246430\n",
            "109272544\n",
            "111539027\n",
            "112522852\n",
            "113783213\n",
            "114620610\n",
            "116036567\n",
            "117421727\n",
            "119134533\n",
            "120378586\n",
            "121554027\n",
            "121817833\n",
            "122730767\n",
            "123673909\n",
            "124747226\n",
            "total is 5931486514\n"
          ],
          "name": "stdout"
        }
      ]
    },
    {
      "cell_type": "code",
      "metadata": {
        "colab": {
          "base_uri": "https://localhost:8080/"
        },
        "id": "SqfKehXXBNjb",
        "outputId": "da973057-1b45-493c-90df-ca4b8ae293dc"
      },
      "source": [
        "def main():\n",
        "  num=open(\"/content/drive/MyDrive/numbers.txt\",\"r\")\n",
        "  total=0\n",
        "  count=0\n",
        "  for x in num:\n",
        "    counter=int (x)\n",
        "    count+=1\n",
        "    print(counter)\n",
        "    total+=counter\n",
        "  num.close()\n",
        "  print(\"average is\",total/count)\n",
        "main()\n"
      ],
      "execution_count": 6,
      "outputs": [
        {
          "output_type": "stream",
          "text": [
            "86850343\n",
            "88065952\n",
            "89381968\n",
            "89536251\n",
            "89714939\n",
            "89826424\n",
            "90124775\n",
            "90672109\n",
            "91408453\n",
            "92438737\n",
            "93361277\n",
            "93890243\n",
            "94372638\n",
            "94759578\n",
            "95079649\n",
            "95439651\n",
            "95611217\n",
            "95980818\n",
            "96336673\n",
            "96581524\n",
            "97041824\n",
            "97379048\n",
            "97672500\n",
            "98066518\n",
            "98479598\n",
            "98934553\n",
            "99246321\n",
            "99431136\n",
            "99835823\n",
            "100049946\n",
            "100234498\n",
            "100568960\n",
            "100806870\n",
            "101097750\n",
            "101820859\n",
            "102455417\n",
            "103013163\n",
            "103523365\n",
            "104177442\n",
            "104757015\n",
            "105145703\n",
            "105694237\n",
            "106140898\n",
            "107246430\n",
            "109272544\n",
            "111539027\n",
            "112522852\n",
            "113783213\n",
            "114620610\n",
            "116036567\n",
            "117421727\n",
            "119134533\n",
            "120378586\n",
            "121554027\n",
            "121817833\n",
            "122730767\n",
            "123673909\n",
            "124747226\n",
            "average is 102267008.86206897\n"
          ],
          "name": "stdout"
        }
      ]
    },
    {
      "cell_type": "code",
      "metadata": {
        "colab": {
          "base_uri": "https://localhost:8080/"
        },
        "id": "IbcNlDfxEWR4",
        "outputId": "a5c2bee9-d19a-4051-f26f-7c871030ee11"
      },
      "source": [
        "import random\n",
        "def main():\n",
        "  num=int(input(\"how many numbers\"))\n",
        "  numbers_file=open(\"numbers.txt\",\"w\")\n",
        "  for count in range(1,num+1):\n",
        "    numbers=random.randint(1,500)\n",
        "    numbers_file.write(str(numbers)+\"\\w\")\n",
        "  numbers_file.close()\n",
        "  print(\"data written to numbers_file\")\n",
        "main()\n",
        "\n",
        "\n",
        "\n",
        "\n"
      ],
      "execution_count": 14,
      "outputs": [
        {
          "output_type": "stream",
          "text": [
            "how many numbers10\n",
            "data written to numbers_file\n"
          ],
          "name": "stdout"
        }
      ]
    },
    {
      "cell_type": "code",
      "metadata": {
        "colab": {
          "base_uri": "https://localhost:8080/"
        },
        "id": "WKHKfxUtLU4r",
        "outputId": "9611d251-a62f-4f7f-9e4e-ac279983250a"
      },
      "source": [
        "def main():\n",
        "  total=0\n",
        "  count=0\n",
        "  try:\n",
        "    num=open(\"/content/drive/MyDrive/numbers.txt\",\"r\")\n",
        "    for x in num:\n",
        "      counter= float (x)\n",
        "      count+=1\n",
        "      print(counter)\n",
        "      total+=counter\n",
        "    num.close()\n",
        "    print(\"averge is\",total/count)\n",
        "  except IOERROR:\n",
        "     print(\"an error occured trying to read file\")\n",
        "  except valueERROR:\n",
        "      print(\"non_numeric data found in the file\")\n",
        "main()\n",
        "\n",
        "\n"
      ],
      "execution_count": 44,
      "outputs": [
        {
          "output_type": "stream",
          "text": [
            "86850343.0\n",
            "88065952.0\n",
            "89381968.0\n",
            "89536251.0\n",
            "89714939.0\n",
            "89826424.0\n",
            "90124775.0\n",
            "90672109.0\n",
            "91408453.0\n",
            "92438737.0\n",
            "93361277.0\n",
            "93890243.0\n",
            "94372638.0\n",
            "94759578.0\n",
            "95079649.0\n",
            "95439651.0\n",
            "95611217.0\n",
            "95980818.0\n",
            "96336673.0\n",
            "96581524.0\n",
            "97041824.0\n",
            "97379048.0\n",
            "97672500.0\n",
            "98066518.0\n",
            "98479598.0\n",
            "98934553.0\n",
            "99246321.0\n",
            "99431136.0\n",
            "99835823.0\n",
            "100049946.0\n",
            "100234498.0\n",
            "100568960.0\n",
            "100806870.0\n",
            "101097750.0\n",
            "101820859.0\n",
            "102455417.0\n",
            "103013163.0\n",
            "103523365.0\n",
            "104177442.0\n",
            "104757015.0\n",
            "105145703.0\n",
            "105694237.0\n",
            "106140898.0\n",
            "107246430.0\n",
            "109272544.0\n",
            "111539027.0\n",
            "112522852.0\n",
            "113783213.0\n",
            "114620610.0\n",
            "116036567.0\n",
            "117421727.0\n",
            "119134533.0\n",
            "120378586.0\n",
            "121554027.0\n",
            "121817833.0\n",
            "122730767.0\n",
            "123673909.0\n",
            "124747226.0\n",
            "averge is 102267008.86206897\n"
          ],
          "name": "stdout"
        }
      ]
    }
  ]
}